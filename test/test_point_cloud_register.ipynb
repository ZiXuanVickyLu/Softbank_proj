{
 "cells": [
  {
   "cell_type": "markdown",
   "metadata": {},
   "source": [
    "## Test Point Cloud Register\n"
   ]
  },
  {
   "cell_type": "code",
   "execution_count": null,
   "metadata": {},
   "outputs": [],
   "source": [
    "import torch\n",
    "import numpy as np\n",
    "import open3d as o3d\n",
    "from pytorch3d.ops import chamfer_distance\n",
    "from pytorch3d.transforms import so3_exponential_map\n",
    "import matplotlib.pyplot as plt\n",
    "\n",
    "device = torch.device(\"cuda\" if torch.cuda.is_available() else \"cpu\")\n",
    "\n",
    "def load_point_cloud(file_path):\n",
    "    pcd = o3d.io.read_point_cloud(file_path)\n",
    "    return torch.tensor(np.asarray(pcd.points), dtype=torch.float32).to(device)\n",
    "\n",
    "def visualize_step(source, target, transformed, step):\n",
    "    source_pcd = o3d.geometry.PointCloud()\n",
    "    source_pcd.points = o3d.utility.Vector3dVector(source.cpu().numpy())\n",
    "    source_pcd.paint_uniform_color([1, 0, 0])  \n",
    "\n",
    "    target_pcd = o3d.geometry.PointCloud()\n",
    "    target_pcd.points = o3d.utility.Vector3dVector(target.cpu().numpy())\n",
    "    target_pcd.paint_uniform_color([0, 1, 0])  \n",
    "\n",
    "    transformed_pcd = o3d.geometry.PointCloud()\n",
    "    transformed_pcd.points = o3d.utility.Vector3dVector(transformed.cpu().detach().numpy())\n",
    "    transformed_pcd.paint_uniform_color([0, 0, 1])  \n",
    "\n",
    "    print(f\"Step {step}: Visualizing...\")\n",
    "    o3d.visualization.draw_geometries([source_pcd, target_pcd, transformed_pcd])\n",
    "\n",
    "source_pcd = load_point_cloud(\"source.ply\")  \n",
    "target_pcd = load_point_cloud(\"target.ply\")\n",
    "\n",
    "rot_vector = torch.zeros(3, requires_grad=True, device=device)  \n",
    "translation = torch.zeros(3, requires_grad=True, device=device) \n",
    "\n",
    "optimizer = torch.optim.Adam([rot_vector, translation], lr=0.01)\n",
    "\n",
    "num_iterations = 100\n",
    "for i in range(num_iterations):\n",
    "    optimizer.zero_grad()\n",
    "    \n",
    "    \n",
    "    R = so3_exponential_map(rot_vector.unsqueeze(0)).squeeze(0)  \n",
    "    \n",
    "    transformed_pcd = (source_pcd @ R.T) + translation  \n",
    "    \n",
    "    loss, _ = chamfer_distance(transformed_pcd.unsqueeze(0), target_pcd.unsqueeze(0))\n",
    "    \n",
    "    loss.backward()\n",
    "    optimizer.step()\n",
    "    \n",
    "    print(f\"Iteration {i}: Loss = {loss.item():.6f}\")\n",
    "\n",
    "    if i % 10 == 0:\n",
    "        visualize_step(source_pcd, target_pcd, transformed_pcd, i)\n",
    "\n",
    "visualize_step(source_pcd, target_pcd, transformed_pcd, \"Final\")\n"
   ]
  }
 ],
 "metadata": {
  "kernelspec": {
   "display_name": "venv",
   "language": "python",
   "name": "python3"
  },
  "language_info": {
   "name": "python",
   "version": "3.10.9"
  }
 },
 "nbformat": 4,
 "nbformat_minor": 2
}
